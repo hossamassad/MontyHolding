{
 "cells": [
  {
   "cell_type": "code",
   "execution_count": 4,
   "id": "f7449c98-497e-469f-bbaf-e7f415393625",
   "metadata": {},
   "outputs": [
    {
     "name": "stdout",
     "output_type": "stream",
     "text": [
      "Available devices in the network:\n",
      "IP                  MAC\n",
      "192.168.1.16        3c:a0:67:bb:d3:3d\n",
      "192.168.1.1         d4:6b:a6:9d:d2:52\n",
      "192.168.1.2         4c:11:bf:1c:c8:fc\n",
      "192.168.1.29        78:36:cc:b0:ee:d9\n",
      "enter the iface\n"
     ]
    },
    {
     "name": "stdin",
     "output_type": "stream",
     "text": [
      " Wi-Fi\n"
     ]
    },
    {
     "name": "stdout",
     "output_type": "stream",
     "text": [
      "select the ip from the list\n"
     ]
    },
    {
     "name": "stdin",
     "output_type": "stream",
     "text": [
      " 192.168.1.16\n"
     ]
    },
    {
     "name": "stdout",
     "output_type": "stream",
     "text": [
      "Begin emission:\n",
      "Finished sending 1 packets.\n",
      "\n",
      "Received 1 packets, got 1 answers, remaining 0 packets\n",
      "Begin emission:\n",
      "Finished sending 1 packets.\n",
      "\n",
      "Received 1 packets, got 1 answers, remaining 0 packets\n",
      "###[ Ethernet ]### \n",
      "  dst       = ff:ff:ff:ff:ff:ff\n",
      "  src       = 00:00:00:00:00:00\n",
      "  type      = IPv4\n",
      "###[ IP ]### \n",
      "     version   = 4\n",
      "     ihl       = None\n",
      "     tos       = 0x0\n",
      "     len       = None\n",
      "     id        = 1\n",
      "     flags     = \n",
      "     frag      = 0\n",
      "     ttl       = 64\n",
      "     proto     = udp\n",
      "     chksum    = None\n",
      "     src       = 192.168.1.16\n",
      "     dst       = 192.168.1.16\n",
      "     \\options   \\\n",
      "###[ UDP ]### \n",
      "        sport     = 2123\n",
      "        dport     = 2123\n",
      "        len       = None\n",
      "        chksum    = None\n",
      "###[ GTP v2 Header ]### \n",
      "           version   = 2\n",
      "           P         = 0\n",
      "           T         = 0\n",
      "           MP        = 0\n",
      "           SPARE1    = 0\n",
      "           SPARE2    = 0\n",
      "           gtp_type  = echo_request\n",
      "           length    = 9\n",
      "           seq       = 12345\n",
      "           SPARE3    = 0\n",
      "###[ GTPv2 Echo Request ]### \n",
      "              \\IE_list   \\\n",
      "               |###[ IE Recovery Restart ]### \n",
      "               |  ietype    = Recovery Restart\n",
      "               |  length    = 1\n",
      "               |  CR_flag   = 0\n",
      "               |  instance  = 0\n",
      "               |  restart_counter= 17\n",
      "\n",
      "\n"
     ]
    }
   ],
   "source": [
    "from scapy.contrib.gtp_v2 import GTPHeader as GTPHeader\n",
    "from scapy.contrib.gtp_v2 import GTPV2EchoRequest as GTPV2EchoRequest\n",
    "from scapy.contrib.gtp_v2 import IE_RecoveryRestart as IE_RecoveryRestart\n",
    "from scapy.all import *\n",
    "import sys\n",
    "from io import StringIO\n",
    "target_ip = \"192.168.1.1/24\"\n",
    "arp = ARP(pdst=target_ip)\n",
    "ether = Ether(dst=\"ff:ff:ff:ff:ff:ff\")\n",
    "packet = ether/arp\n",
    "result = srp(packet, timeout=3, verbose=0)[0]\n",
    "clients = []\n",
    "fd = open(\"output.txt\",\"w\") \n",
    "for sent, received in result:\n",
    "    clients.append({'ip': received.psrc, 'mac': received.hwsrc})\n",
    "print(\"Available devices in the network:\")\n",
    "print(\"IP\" + \" \"*18+\"MAC\")\n",
    "for client in clients:\n",
    "    print(\"{:16}    {}\".format(client['ip'], client['mac']))\n",
    "print(\"enter the iface\")    \n",
    "i_face = str(input())    \n",
    "print(\"select the ip from the list\")\n",
    "ip = str(input())\n",
    "ie = IE_RecoveryRestart(ietype='Recovery Restart', length=1, restart_counter=17, CR_flag=0, instance=0)\n",
    "gtp = Ether()/IP(dst=ip)/UDP(sport=2123, dport=2123) / GTPHeader(seq=12345, length=9, P=0) / GTPV2EchoRequest(IE_list=[ie])\n",
    "ans = srp1(gtp,timeout=10,iface = i_face)\n",
    "unans = srp1(gtp,timeout=10,iface = i_face)\n",
    "capture = StringIO()\n",
    "save_stdout = sys.stdout\n",
    "sys.stdout = capture\n",
    "gtp.show()\n",
    "sys.stdout = save_stdout\n",
    "out = capture.getvalue()\n",
    "print (capture.getvalue())\n",
    "fd.write(str(out))\n",
    "fd.close()"
   ]
  },
  {
   "cell_type": "code",
   "execution_count": null,
   "id": "83d92f1e-fb4f-4090-afe0-db2d1b1cb314",
   "metadata": {},
   "outputs": [],
   "source": []
  }
 ],
 "metadata": {
  "kernelspec": {
   "display_name": "Python 3 (ipykernel)",
   "language": "python",
   "name": "python3"
  },
  "language_info": {
   "codemirror_mode": {
    "name": "ipython",
    "version": 3
   },
   "file_extension": ".py",
   "mimetype": "text/x-python",
   "name": "python",
   "nbconvert_exporter": "python",
   "pygments_lexer": "ipython3",
   "version": "3.9.13"
  }
 },
 "nbformat": 4,
 "nbformat_minor": 5
}
